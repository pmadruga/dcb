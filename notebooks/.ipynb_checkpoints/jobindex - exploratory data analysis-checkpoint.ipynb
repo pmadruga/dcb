{
 "cells": [
  {
   "cell_type": "markdown",
   "metadata": {},
   "source": [
    "# Introduction\n",
    "\n",
    "The goal of this notebook is to present a preview of the dataset, describe each property compare with the official data from Danmark Statistik. In the end, a few possible questions are included, opening the discussion of what the focus should be (and how to visualize it)."
   ]
  },
  {
   "cell_type": "code",
   "execution_count": 5,
   "metadata": {},
   "outputs": [],
   "source": [
    "import pandas as pd\n",
    "from scipy.stats.stats import pearsonr"
   ]
  },
  {
   "cell_type": "code",
   "execution_count": 6,
   "metadata": {},
   "outputs": [
    {
     "data": {
      "text/html": [
       "<script>\n",
       "code_show=true; \n",
       "function code_toggle() {\n",
       " if (code_show){\n",
       " $('div.input').hide();\n",
       " } else {\n",
       " $('div.input').show();\n",
       " }\n",
       " code_show = !code_show\n",
       "} \n",
       "$( document ).ready(code_toggle);\n",
       "</script>\n",
       "<form action=\"javascript:code_toggle()\"><input type=\"submit\" value=\"Toggle code view.\"></form>"
      ],
      "text/plain": [
       "<IPython.core.display.HTML object>"
      ]
     },
     "execution_count": 6,
     "metadata": {},
     "output_type": "execute_result"
    }
   ],
   "source": [
    "from IPython.display import HTML\n",
    "\n",
    "HTML('''<script>\n",
    "code_show=true; \n",
    "function code_toggle() {\n",
    " if (code_show){\n",
    " $('div.input').hide();\n",
    " } else {\n",
    " $('div.input').show();\n",
    " }\n",
    " code_show = !code_show\n",
    "} \n",
    "$( document ).ready(code_toggle);\n",
    "</script>\n",
    "<form action=\"javascript:code_toggle()\"><input type=\"submit\" value=\"Toggle code view.\"></form>''')"
   ]
  },
  {
   "cell_type": "code",
   "execution_count": 7,
   "metadata": {},
   "outputs": [],
   "source": [
    "# jobindex\n",
    "df = pd.read_csv('../data/jobindex_2021.csv')\n",
    "\n",
    "# danmark statistik - job vacancies by quarter\n",
    "df_ds = pd.read_csv('../data/dstatistik2.csv', header=None)\n",
    "df_ds.columns = ['quarter', 'count']"
   ]
  },
  {
   "cell_type": "code",
   "execution_count": 8,
   "metadata": {},
   "outputs": [],
   "source": [
    "# drop duplicates from jobindex dataset\n",
    "df_no_dup = df.drop_duplicates(subset=df.columns[1:])\n",
    "\n",
    "df_no_dup['date'] = pd.to_datetime(df_no_dup['date'])\n",
    "\n",
    "# group counts by type\n",
    "df_count = df_no_dup[['type', 'date']].groupby('date').count().reset_index()\n",
    "\n",
    "# filter only from 2010 upwards\n",
    "df_filtered = df_count[(df_count['date'] >= '2010-01-01') & (df_count['date'] <= '2020-12-31')]\n",
    "\n",
    "# organize df_jobindex by quarter\n",
    "df_ji = df_filtered.resample('Q', convention='end', on='date').agg('sum').reset_index()"
   ]
  },
  {
   "cell_type": "markdown",
   "metadata": {},
   "source": [
    "# Preview"
   ]
  },
  {
   "cell_type": "code",
   "execution_count": 9,
   "metadata": {},
   "outputs": [
    {
     "data": {
      "text/html": [
       "<div>\n",
       "<style scoped>\n",
       "    .dataframe tbody tr th:only-of-type {\n",
       "        vertical-align: middle;\n",
       "    }\n",
       "\n",
       "    .dataframe tbody tr th {\n",
       "        vertical-align: top;\n",
       "    }\n",
       "\n",
       "    .dataframe thead th {\n",
       "        text-align: right;\n",
       "    }\n",
       "</style>\n",
       "<table border=\"1\" class=\"dataframe\">\n",
       "  <thead>\n",
       "    <tr style=\"text-align: right;\">\n",
       "      <th></th>\n",
       "      <th>id</th>\n",
       "      <th>title</th>\n",
       "      <th>company</th>\n",
       "      <th>location</th>\n",
       "      <th>description</th>\n",
       "      <th>source</th>\n",
       "      <th>date</th>\n",
       "      <th>company_rating</th>\n",
       "      <th>type</th>\n",
       "      <th>description_img</th>\n",
       "      <th>company_rating_amount</th>\n",
       "      <th>ratings_link</th>\n",
       "      <th>link</th>\n",
       "    </tr>\n",
       "  </thead>\n",
       "  <tbody>\n",
       "    <tr>\n",
       "      <th>0</th>\n",
       "      <td>1</td>\n",
       "      <td>Bo- og Aflastningstilbuddet Tankefuld søger ak...</td>\n",
       "      <td>Svendborg Kommune</td>\n",
       "      <td>Svendborg</td>\n",
       "      <td>Vi søger timelønnede medarbejdere - både u...</td>\n",
       "      <td>Jobcenter</td>\n",
       "      <td>2021-03-04</td>\n",
       "      <td>NaN</td>\n",
       "      <td>unpaid</td>\n",
       "      <td>NaN</td>\n",
       "      <td>NaN</td>\n",
       "      <td>NaN</td>\n",
       "      <td>/bruger/dine-job/r9423946/gem</td>\n",
       "    </tr>\n",
       "    <tr>\n",
       "      <th>1</th>\n",
       "      <td>2</td>\n",
       "      <td>Billigblomst Aalborg søger kasseassistent</td>\n",
       "      <td>BilligBlomst Aalborg ApS</td>\n",
       "      <td>Aalborg SV</td>\n",
       "      <td>Har du solid erfaringen indenfor butiksver...</td>\n",
       "      <td>Jobcenter</td>\n",
       "      <td>2021-03-04</td>\n",
       "      <td>NaN</td>\n",
       "      <td>unpaid</td>\n",
       "      <td>NaN</td>\n",
       "      <td>NaN</td>\n",
       "      <td>NaN</td>\n",
       "      <td>/bruger/dine-job/r9423932/gem</td>\n",
       "    </tr>\n",
       "    <tr>\n",
       "      <th>2</th>\n",
       "      <td>3</td>\n",
       "      <td>Billigblomst Næstved søger to kompetente kasse...</td>\n",
       "      <td>BilligBlomst Næstved ApS</td>\n",
       "      <td>Holmegaard</td>\n",
       "      <td>Har du solid erfaringen indenfor butiksver...</td>\n",
       "      <td>Jobcenter</td>\n",
       "      <td>2021-03-04</td>\n",
       "      <td>NaN</td>\n",
       "      <td>unpaid</td>\n",
       "      <td>NaN</td>\n",
       "      <td>NaN</td>\n",
       "      <td>NaN</td>\n",
       "      <td>/bruger/dine-job/r9423979/gem</td>\n",
       "    </tr>\n",
       "    <tr>\n",
       "      <th>3</th>\n",
       "      <td>4</td>\n",
       "      <td>BILLIGBOMST RANDERS SØGER BUTIKSASSISTENTER</td>\n",
       "      <td>BilligBlomst Randers ApS</td>\n",
       "      <td>Randers SØ</td>\n",
       "      <td>Billigblomst søger 2 nye medarbejdere til ...</td>\n",
       "      <td>Jobcenter</td>\n",
       "      <td>2021-03-04</td>\n",
       "      <td>NaN</td>\n",
       "      <td>unpaid</td>\n",
       "      <td>NaN</td>\n",
       "      <td>NaN</td>\n",
       "      <td>NaN</td>\n",
       "      <td>/bruger/dine-job/r9424458/gem</td>\n",
       "    </tr>\n",
       "    <tr>\n",
       "      <th>4</th>\n",
       "      <td>5</td>\n",
       "      <td>Studentermedarbejder</td>\n",
       "      <td>Dansk Firmaidrætsforbund</td>\n",
       "      <td>Nyborg</td>\n",
       "      <td>NaN</td>\n",
       "      <td>Dansk Firmaidrætsforbund</td>\n",
       "      <td>2021-03-04</td>\n",
       "      <td>NaN</td>\n",
       "      <td>unpaid</td>\n",
       "      <td>NaN</td>\n",
       "      <td>NaN</td>\n",
       "      <td>NaN</td>\n",
       "      <td>/bruger/dine-job/r9423600/gem</td>\n",
       "    </tr>\n",
       "  </tbody>\n",
       "</table>\n",
       "</div>"
      ],
      "text/plain": [
       "  id                                              title  \\\n",
       "0  1  Bo- og Aflastningstilbuddet Tankefuld søger ak...   \n",
       "1  2          Billigblomst Aalborg søger kasseassistent   \n",
       "2  3  Billigblomst Næstved søger to kompetente kasse...   \n",
       "3  4        BILLIGBOMST RANDERS SØGER BUTIKSASSISTENTER   \n",
       "4  5                               Studentermedarbejder   \n",
       "\n",
       "                    company    location  \\\n",
       "0         Svendborg Kommune   Svendborg   \n",
       "1  BilligBlomst Aalborg ApS  Aalborg SV   \n",
       "2  BilligBlomst Næstved ApS  Holmegaard   \n",
       "3  BilligBlomst Randers ApS  Randers SØ   \n",
       "4  Dansk Firmaidrætsforbund      Nyborg   \n",
       "\n",
       "                                         description  \\\n",
       "0      Vi søger timelønnede medarbejdere - både u...   \n",
       "1      Har du solid erfaringen indenfor butiksver...   \n",
       "2      Har du solid erfaringen indenfor butiksver...   \n",
       "3      Billigblomst søger 2 nye medarbejdere til ...   \n",
       "4                                                NaN   \n",
       "\n",
       "                     source        date  company_rating    type  \\\n",
       "0                 Jobcenter  2021-03-04             NaN  unpaid   \n",
       "1                 Jobcenter  2021-03-04             NaN  unpaid   \n",
       "2                 Jobcenter  2021-03-04             NaN  unpaid   \n",
       "3                 Jobcenter  2021-03-04             NaN  unpaid   \n",
       "4  Dansk Firmaidrætsforbund  2021-03-04             NaN  unpaid   \n",
       "\n",
       "  description_img  company_rating_amount  ratings_link  \\\n",
       "0             NaN                    NaN           NaN   \n",
       "1             NaN                    NaN           NaN   \n",
       "2             NaN                    NaN           NaN   \n",
       "3             NaN                    NaN           NaN   \n",
       "4             NaN                    NaN           NaN   \n",
       "\n",
       "                            link  \n",
       "0  /bruger/dine-job/r9423946/gem  \n",
       "1  /bruger/dine-job/r9423932/gem  \n",
       "2  /bruger/dine-job/r9423979/gem  \n",
       "3  /bruger/dine-job/r9424458/gem  \n",
       "4  /bruger/dine-job/r9423600/gem  "
      ]
     },
     "execution_count": 9,
     "metadata": {},
     "output_type": "execute_result"
    }
   ],
   "source": [
    "df.head()"
   ]
  },
  {
   "cell_type": "markdown",
   "metadata": {},
   "source": [
    "## Description\n",
    "\n",
    "* __title__: Title of the job\n",
    "* __company__: Company\n",
    "* __location__: Location\n",
    "* __source__: the original poster of the job\n",
    "* __date__: date of the job posting\n",
    "* __company_rating__: rating by jobindex.dk's users, to the given company\n",
    "* __type__: can be \"paid\" or \"unpaid\". Jobindex allows for paid ads (thus bumping them to the top of the page)\n",
    "* __description_img__: some job postings include images\n",
    "* __company_rating_amount__: number of users who have rated the company\n",
    "* __ratings_link__: when ratings are available, it's possible to see more details (like comments) when click the link\n",
    "* __link__: link to the original job posting"
   ]
  },
  {
   "cell_type": "markdown",
   "metadata": {},
   "source": [
    "## Limitations of the jobindex.dk dataset\n",
    "\n",
    "- Not all job postings have titles and/or company and/location. This is because of the HTML, that makes it somewhat hard to scrape the information properly.\n",
    "- Some job postings might have a title in the \"company\" column. Again, HTML-related."
   ]
  },
  {
   "cell_type": "markdown",
   "metadata": {},
   "source": [
    "# Visualization"
   ]
  },
  {
   "cell_type": "code",
   "execution_count": 10,
   "metadata": {},
   "outputs": [
    {
     "ename": "ImportError",
     "evalue": "matplotlib is required for plotting when the default backend \"matplotlib\" is selected.",
     "output_type": "error",
     "traceback": [
      "\u001b[0;31m---------------------------------------------------------------------------\u001b[0m",
      "\u001b[0;31mImportError\u001b[0m                               Traceback (most recent call last)",
      "\u001b[0;32m<ipython-input-10-5ce813331836>\u001b[0m in \u001b[0;36m<module>\u001b[0;34m\u001b[0m\n\u001b[1;32m      5\u001b[0m \u001b[0mdf_combined\u001b[0m\u001b[0;34m[\u001b[0m\u001b[0;34m'dk statistik'\u001b[0m\u001b[0;34m]\u001b[0m \u001b[0;34m=\u001b[0m \u001b[0mdf_ds\u001b[0m\u001b[0;34m[\u001b[0m\u001b[0;34m'count'\u001b[0m\u001b[0;34m]\u001b[0m\u001b[0;34m\u001b[0m\u001b[0;34m\u001b[0m\u001b[0m\n\u001b[1;32m      6\u001b[0m \u001b[0;34m\u001b[0m\u001b[0m\n\u001b[0;32m----> 7\u001b[0;31m \u001b[0max\u001b[0m \u001b[0;34m=\u001b[0m\u001b[0mdf_combined\u001b[0m\u001b[0;34m.\u001b[0m\u001b[0mset_index\u001b[0m\u001b[0;34m(\u001b[0m\u001b[0;34m'date'\u001b[0m\u001b[0;34m)\u001b[0m\u001b[0;34m.\u001b[0m\u001b[0mplot\u001b[0m\u001b[0;34m(\u001b[0m\u001b[0mfigsize\u001b[0m\u001b[0;34m=\u001b[0m\u001b[0;34m(\u001b[0m\u001b[0;36m11\u001b[0m\u001b[0;34m,\u001b[0m\u001b[0;36m7\u001b[0m\u001b[0;34m)\u001b[0m\u001b[0;34m)\u001b[0m\u001b[0;34m\u001b[0m\u001b[0;34m\u001b[0m\u001b[0m\n\u001b[0m\u001b[1;32m      8\u001b[0m \u001b[0max\u001b[0m\u001b[0;34m.\u001b[0m\u001b[0mset_ylabel\u001b[0m\u001b[0;34m(\u001b[0m\u001b[0;34m\"number of jobs\"\u001b[0m\u001b[0;34m,\u001b[0m \u001b[0mfontsize\u001b[0m\u001b[0;34m=\u001b[0m\u001b[0;36m15\u001b[0m\u001b[0;34m)\u001b[0m\u001b[0;34m\u001b[0m\u001b[0;34m\u001b[0m\u001b[0m\n\u001b[1;32m      9\u001b[0m \u001b[0max\u001b[0m\u001b[0;34m.\u001b[0m\u001b[0mset_xlabel\u001b[0m\u001b[0;34m(\u001b[0m\u001b[0;34m\"year (by quarter)\"\u001b[0m\u001b[0;34m,\u001b[0m \u001b[0mfontsize\u001b[0m\u001b[0;34m=\u001b[0m\u001b[0;36m15\u001b[0m\u001b[0;34m)\u001b[0m\u001b[0;34m\u001b[0m\u001b[0;34m\u001b[0m\u001b[0m\n",
      "\u001b[0;32m~/.virtualenvs/dcb/lib/python3.8/site-packages/pandas/plotting/_core.py\u001b[0m in \u001b[0;36m__call__\u001b[0;34m(self, *args, **kwargs)\u001b[0m\n\u001b[1;32m    873\u001b[0m \u001b[0;34m\u001b[0m\u001b[0m\n\u001b[1;32m    874\u001b[0m     \u001b[0;32mdef\u001b[0m \u001b[0m__call__\u001b[0m\u001b[0;34m(\u001b[0m\u001b[0mself\u001b[0m\u001b[0;34m,\u001b[0m \u001b[0;34m*\u001b[0m\u001b[0margs\u001b[0m\u001b[0;34m,\u001b[0m \u001b[0;34m**\u001b[0m\u001b[0mkwargs\u001b[0m\u001b[0;34m)\u001b[0m\u001b[0;34m:\u001b[0m\u001b[0;34m\u001b[0m\u001b[0;34m\u001b[0m\u001b[0m\n\u001b[0;32m--> 875\u001b[0;31m         \u001b[0mplot_backend\u001b[0m \u001b[0;34m=\u001b[0m \u001b[0m_get_plot_backend\u001b[0m\u001b[0;34m(\u001b[0m\u001b[0mkwargs\u001b[0m\u001b[0;34m.\u001b[0m\u001b[0mpop\u001b[0m\u001b[0;34m(\u001b[0m\u001b[0;34m\"backend\"\u001b[0m\u001b[0;34m,\u001b[0m \u001b[0;32mNone\u001b[0m\u001b[0;34m)\u001b[0m\u001b[0;34m)\u001b[0m\u001b[0;34m\u001b[0m\u001b[0;34m\u001b[0m\u001b[0m\n\u001b[0m\u001b[1;32m    876\u001b[0m \u001b[0;34m\u001b[0m\u001b[0m\n\u001b[1;32m    877\u001b[0m         x, y, kind, kwargs = self._get_call_args(\n",
      "\u001b[0;32m~/.virtualenvs/dcb/lib/python3.8/site-packages/pandas/plotting/_core.py\u001b[0m in \u001b[0;36m_get_plot_backend\u001b[0;34m(backend)\u001b[0m\n\u001b[1;32m   1784\u001b[0m             \u001b[0;32mimport\u001b[0m \u001b[0mpandas\u001b[0m\u001b[0;34m.\u001b[0m\u001b[0mplotting\u001b[0m\u001b[0;34m.\u001b[0m\u001b[0m_matplotlib\u001b[0m \u001b[0;32mas\u001b[0m \u001b[0mmodule\u001b[0m\u001b[0;34m\u001b[0m\u001b[0;34m\u001b[0m\u001b[0m\n\u001b[1;32m   1785\u001b[0m         \u001b[0;32mexcept\u001b[0m \u001b[0mImportError\u001b[0m\u001b[0;34m:\u001b[0m\u001b[0;34m\u001b[0m\u001b[0;34m\u001b[0m\u001b[0m\n\u001b[0;32m-> 1786\u001b[0;31m             raise ImportError(\n\u001b[0m\u001b[1;32m   1787\u001b[0m                 \u001b[0;34m\"matplotlib is required for plotting when the \"\u001b[0m\u001b[0;34m\u001b[0m\u001b[0;34m\u001b[0m\u001b[0m\n\u001b[1;32m   1788\u001b[0m                 \u001b[0;34m'default backend \"matplotlib\" is selected.'\u001b[0m\u001b[0;34m\u001b[0m\u001b[0;34m\u001b[0m\u001b[0m\n",
      "\u001b[0;31mImportError\u001b[0m: matplotlib is required for plotting when the default backend \"matplotlib\" is selected."
     ]
    }
   ],
   "source": [
    "df_combined = pd.DataFrame()\n",
    "\n",
    "df_combined['date'] = df_ji['date']\n",
    "df_combined['jobindex'] = df_ji['type']\n",
    "df_combined['dk statistik'] = df_ds['count']\n",
    "\n",
    "ax =df_combined.set_index('date').plot(figsize=(11,7))\n",
    "ax.set_ylabel(\"number of jobs\", fontsize=15)\n",
    "ax.set_xlabel(\"year (by quarter)\", fontsize=15)"
   ]
  },
  {
   "cell_type": "markdown",
   "metadata": {},
   "source": [
    "# Correlation"
   ]
  },
  {
   "cell_type": "code",
   "execution_count": null,
   "metadata": {},
   "outputs": [],
   "source": [
    "x = df_ji['type'].values\n",
    "y = df_ds['count'].values\n",
    "\n",
    "corr = pearsonr(x,y)\n",
    "\n",
    "print(\"Correlation (Pearson):\", \"{:.1%}\".format(corr[0]))\n",
    "print(\"\"\"\n",
    "This means that, even with the missing data in 2014-Q2, the correlation is strong.\n",
    "It will be stronger when the missing data issue has been solved.\n",
    "\n",
    "In practical terms, it means that the jobindex dataset is highly correlated with \n",
    "the official government data for \"job vacancies\", thus increasing its reliability. \n",
    "\n",
    "\"\"\")"
   ]
  },
  {
   "cell_type": "markdown",
   "metadata": {},
   "source": [
    "# Potential questions"
   ]
  },
  {
   "cell_type": "markdown",
   "metadata": {},
   "source": [
    "## Potential questions:\n",
    "\n",
    "### Regarding job numbers:\n",
    "\n",
    "- n jobs per title;\n",
    "\n",
    "- n jobs per company;\n",
    "\n",
    "- n jobs by location;\n",
    "\n",
    "- n jobs per source of job ad (where can we find more jobs?)\n",
    "\n",
    "- n jobs per title per source of job ad;\n",
    "\n",
    "- n jobs by date;\n",
    "\n",
    "- n jobs by date by title;\n",
    "\n",
    "- n jobs by date by company;\n",
    "\n",
    "- n of jobs by date by title by company;\n",
    "\n",
    "- n jobs per month;\n",
    "\n",
    "- n jobs by quarter/season;\n",
    "\n",
    "- n jobs by month/quarter/season by title;\n",
    "\n",
    "- n jobs per month by company;\n",
    "\n",
    "### Regarding words\n",
    "\n",
    "- Most common words per description"
   ]
  },
  {
   "cell_type": "code",
   "execution_count": null,
   "metadata": {},
   "outputs": [],
   "source": []
  }
 ],
 "metadata": {
  "kernelspec": {
   "display_name": "Python 3",
   "language": "python",
   "name": "python3"
  },
  "language_info": {
   "codemirror_mode": {
    "name": "ipython",
    "version": 3
   },
   "file_extension": ".py",
   "mimetype": "text/x-python",
   "name": "python",
   "nbconvert_exporter": "python",
   "pygments_lexer": "ipython3",
   "version": "3.8.5"
  },
  "toc": {
   "base_numbering": 1,
   "nav_menu": {},
   "number_sections": true,
   "sideBar": true,
   "skip_h1_title": false,
   "title_cell": "Table of Contents",
   "title_sidebar": "Contents",
   "toc_cell": false,
   "toc_position": {},
   "toc_section_display": true,
   "toc_window_display": true
  },
  "varInspector": {
   "cols": {
    "lenName": 16,
    "lenType": 16,
    "lenVar": 40
   },
   "kernels_config": {
    "python": {
     "delete_cmd_postfix": "",
     "delete_cmd_prefix": "del ",
     "library": "var_list.py",
     "varRefreshCmd": "print(var_dic_list())"
    },
    "r": {
     "delete_cmd_postfix": ") ",
     "delete_cmd_prefix": "rm(",
     "library": "var_list.r",
     "varRefreshCmd": "cat(var_dic_list()) "
    }
   },
   "types_to_exclude": [
    "module",
    "function",
    "builtin_function_or_method",
    "instance",
    "_Feature"
   ],
   "window_display": false
  }
 },
 "nbformat": 4,
 "nbformat_minor": 4
}
